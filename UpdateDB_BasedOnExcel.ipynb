{
  "nbformat": 4,
  "nbformat_minor": 0,
  "metadata": {
    "colab": {
      "name": "UpdateDB_BasedOnExcel.ipynb",
      "provenance": [],
      "collapsed_sections": [],
      "authorship_tag": "ABX9TyPJU0/25BrRarxN7UFsu9Jq",
      "include_colab_link": true
    },
    "kernelspec": {
      "name": "python3",
      "display_name": "Python 3"
    },
    "language_info": {
      "name": "python"
    }
  },
  "cells": [
    {
      "cell_type": "markdown",
      "metadata": {
        "id": "view-in-github",
        "colab_type": "text"
      },
      "source": [
        "<a href=\"https://colab.research.google.com/github/SkRath54/DemoCI/blob/NewBranch/UpdateDB_BasedOnExcel.ipynb\" target=\"_parent\"><img src=\"https://colab.research.google.com/assets/colab-badge.svg\" alt=\"Open In Colab\"/></a>"
      ]
    },
    {
      "cell_type": "markdown",
      "source": [
        "pip install psycopg2"
      ],
      "metadata": {
        "id": "yxcYos0WBMgt"
      }
    },
    {
      "cell_type": "markdown",
      "source": [
        "DEV - sfplus-rds-dev-snapshot0301.cvhckz8wfkpr.ap-southeast-1.rds.amazonaws.com\n",
        "\n",
        "UAT - uat-dw-restored-dec06.cvhckz8wfkpr.ap-southeast-1.rds.amazonaws.com\n",
        "\n",
        "PROD - sfplus-rds.cvhckz8wfkpr.ap-southeast-1.rds.amazonaws.com"
      ],
      "metadata": {
        "id": "GruuNWZNRa7A"
      }
    },
    {
      "cell_type": "markdown",
      "source": [
        "import psycopg2\n",
        "try:\n",
        "    connection = psycopg2.connect(user = \"postgres\",\n",
        "                                  password = \"smartfarm!23\",\n",
        "                                  host = \"sfplus-rds-dev-snapshot0301.cvhckz8wfkpr.ap-southeast-1.rds.amazonaws.com\",\n",
        "                                  port = \"5432\",\n",
        "                                  database = \"cropinv2\")\n",
        "\n",
        "    cursor = connection.cursor()\n",
        "    cursor.execute(\"Select version()\")\n",
        "    data = cursor.fetchone()\n",
        "    print(\"Connection established to: \",data)\n",
        "except (Exception, psycopg2.Error) as error :\n",
        "    print (\"Error while connecting\", error)\n",
        "finally:\n",
        "        if(connection):\n",
        "            cursor.close()\n",
        "            connection.close()"
      ],
      "metadata": {
        "id": "-BZ5kXhuVQkE"
      }
    },
    {
      "cell_type": "code",
      "source": [
        "import psycopg2\n",
        "try:\n",
        "    connection = psycopg2.connect(user = \"postgres\",\n",
        "                                  password = \"smartfarm!23\",\n",
        "                                  host = \"sfplus-rds-dev-snapshot0301.cvhckz8wfkpr.ap-southeast-1.rds.amazonaws.com\",\n",
        "                                  port = \"5432\",\n",
        "                                  database = \"cropinv2\")\n",
        "\n",
        "    cursor = connection.cursor()\n",
        "    cursor.execute(\"Select id, name, Data From SynLatam_Farm.task\")\n",
        "    print(\"Task Data : \",cursor.fetchall())\n",
        "except (Exception, psycopg2.Error) as error :\n",
        "    print (\"Error while connecting\", error)\n",
        "finally:\n",
        "        if(connection):\n",
        "            cursor.close()\n",
        "            connection.close()"
      ],
      "metadata": {
        "colab": {
          "base_uri": "https://localhost:8080/"
        },
        "id": "nZwMs7dxAz_7",
        "outputId": "74e6adf6-9628-4c42-ca9f-06ec81379998"
      },
      "execution_count": 6,
      "outputs": [
        {
          "output_type": "stream",
          "name": "stdout",
          "text": [
            "Task Data :  [(2051, 'Pest Estimation - Mazie', None), (2052, 'Pest Estimation - Mazie', None), (2053, 'Pest Estimation - Mazie', None), (2057, 'Pest Estimation - Mazie', None), (2058, 'Pest Estimation - Mazie', None), (2059, 'Pest Estimation - Mazie', None), (2060, 'Pest Estimation - Mazie', None), (2061, 'Pest Estimation - Mazie', None), (2062, 'Pest Estimation - Mazie', None), (2063, 'Pest Estimation - Mazie', None), (2064, 'Pest Estimation - Mazie', None), (2065, 'Pest Estimation - Mazie', None), (2066, 'Pest Estimation - Mazie', None), (2067, 'Pest Estimation - Mazie', None), (2068, 'Pest Estimation - Mazie', None), (2054, 'Pest Estimation - Mazie', None), (2055, 'Pest Estimation - Mazie', None), (2056, 'Pest Estimation - Mazie', None), (2071, 'Pest Estimation - Mazie', None), (2069, 'Pest Estimation - Mazie', {'geoLocationData': {'latitude': 12.3390368, 'longitude': 76.624233}, 'customAttributesEntered': {'endDate': '2020-08-07T18:30:00.000Z', 'startDate': '2020-08-02T18:30:00.000Z'}, 'standardAttributesEntered': {'cropStage': 2201, 'executedOn': '2020-09-16T00:00:00.000Z'}, 'planHeaderAttributesEntered': []}), (2070, 'Pest Estimation - Mazie', {'geoLocationData': {'latitude': 12.3390373, 'longitude': 76.6242336}, 'customAttributesEntered': {'endDate': '2020-08-07T18:30:00.000Z', 'startDate': '2020-08-02T18:30:00.000Z'}, 'standardAttributesEntered': {'executedOn': '2020-09-16T00:00:00.000Z'}, 'planHeaderAttributesEntered': []}), (2072, 'Test form - North', None)]\n"
          ]
        }
      ]
    }
  ]
}
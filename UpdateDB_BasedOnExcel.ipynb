{
  "nbformat": 4,
  "nbformat_minor": 0,
  "metadata": {
    "colab": {
      "name": "UpdateDB_BasedOnExcel.ipynb",
      "provenance": [],
      "collapsed_sections": [],
      "authorship_tag": "ABX9TyONC2g4dC3L6CzxCWkbmQkX",
      "include_colab_link": true
    },
    "kernelspec": {
      "name": "python3",
      "display_name": "Python 3"
    },
    "language_info": {
      "name": "python"
    }
  },
  "cells": [
    {
      "cell_type": "markdown",
      "metadata": {
        "id": "view-in-github",
        "colab_type": "text"
      },
      "source": [
        "<a href=\"https://colab.research.google.com/github/SkRath54/DemoCI/blob/master/UpdateDB_BasedOnExcel.ipynb\" target=\"_parent\"><img src=\"https://colab.research.google.com/assets/colab-badge.svg\" alt=\"Open In Colab\"/></a>"
      ]
    },
    {
      "cell_type": "markdown",
      "source": [
        "pip install psycopg2"
      ],
      "metadata": {
        "id": "yxcYos0WBMgt"
      }
    },
    {
      "cell_type": "code",
      "source": [
        "import psycopg2\n",
        "try:\n",
        "    connection = psycopg2.connect(user = \"postgres\",\n",
        "                                  password = \"smartfarm!23\",\n",
        "                                  host = \"sfplus-rds-dev-snapshot0301.cvhckz8wfkpr.ap-southeast-1.rds.amazonaws.com\",\n",
        "                                  port = \"5432\",\n",
        "                                  database = \"cropinv2\")\n",
        "\n",
        "    cursor = connection.cursor()\n",
        "    cursor.execute(\"select version()\")\n",
        "    data = cursor.fetchone()\n",
        "    print(\"Connection established to: \",data)\n",
        "    \n",
        "except (Exception, psycopg2.Error) as error :\n",
        "    print (\"Error while connecting\", error)\n",
        "finally:\n",
        "        if(connection):\n",
        "            cursor.close()\n",
        "            connection.close()"
      ],
      "metadata": {
        "colab": {
          "base_uri": "https://localhost:8080/"
        },
        "id": "nZwMs7dxAz_7",
        "outputId": "f724b167-f216-4232-b3de-ab62177430b6"
      },
      "execution_count": 7,
      "outputs": [
        {
          "output_type": "stream",
          "name": "stdout",
          "text": [
            "Connection established to:  ('PostgreSQL 11.10 on x86_64-pc-linux-gnu, compiled by gcc (GCC) 4.8.5 20150623 (Red Hat 4.8.5-11), 64-bit',)\n"
          ]
        }
      ]
    },
    {
      "cell_type": "code",
      "source": [
        ""
      ],
      "metadata": {
        "id": "qJ-qSARGPqb-"
      },
      "execution_count": null,
      "outputs": []
    }
  ]
}